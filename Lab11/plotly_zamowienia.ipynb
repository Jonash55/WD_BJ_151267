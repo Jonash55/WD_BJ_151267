{
 "cells": [
  {
   "cell_type": "code",
   "execution_count": 5,
   "metadata": {
    "pycharm": {
     "name": "#%%\n"
    }
   },
   "outputs": [],
   "source": [
    "import datetime\n",
    "import numpy as np\n",
    "import pandas as pd\n",
    "\n",
    "import plotly.graph_objects as go\n",
    "from ipywidgets import widgets\n",
    "from IPython.display import display"
   ]
  },
  {
   "cell_type": "code",
   "execution_count": 6,
   "metadata": {
    "pycharm": {
     "name": "#%%\n"
    }
   },
   "outputs": [
    {
     "data": {
      "text/plain": "     Kraj Sprzedawca Data zamowienia  idZamowienia    Utarg\n0  Polska   Kowalski      2003-07-16         10248   440.00\n1  Polska   Sowiński      2003-07-10         10249  1863.40\n2  Niemcy    Peacock      2003-07-12         10250  1552.60\n3  Niemcy  Leverling      2003-07-15         10251   654.06\n4  Niemcy    Peacock      2003-07-11         10252  3597.90",
      "text/html": "<div>\n<style scoped>\n    .dataframe tbody tr th:only-of-type {\n        vertical-align: middle;\n    }\n\n    .dataframe tbody tr th {\n        vertical-align: top;\n    }\n\n    .dataframe thead th {\n        text-align: right;\n    }\n</style>\n<table border=\"1\" class=\"dataframe\">\n  <thead>\n    <tr style=\"text-align: right;\">\n      <th></th>\n      <th>Kraj</th>\n      <th>Sprzedawca</th>\n      <th>Data zamowienia</th>\n      <th>idZamowienia</th>\n      <th>Utarg</th>\n    </tr>\n  </thead>\n  <tbody>\n    <tr>\n      <th>0</th>\n      <td>Polska</td>\n      <td>Kowalski</td>\n      <td>2003-07-16</td>\n      <td>10248</td>\n      <td>440.00</td>\n    </tr>\n    <tr>\n      <th>1</th>\n      <td>Polska</td>\n      <td>Sowiński</td>\n      <td>2003-07-10</td>\n      <td>10249</td>\n      <td>1863.40</td>\n    </tr>\n    <tr>\n      <th>2</th>\n      <td>Niemcy</td>\n      <td>Peacock</td>\n      <td>2003-07-12</td>\n      <td>10250</td>\n      <td>1552.60</td>\n    </tr>\n    <tr>\n      <th>3</th>\n      <td>Niemcy</td>\n      <td>Leverling</td>\n      <td>2003-07-15</td>\n      <td>10251</td>\n      <td>654.06</td>\n    </tr>\n    <tr>\n      <th>4</th>\n      <td>Niemcy</td>\n      <td>Peacock</td>\n      <td>2003-07-11</td>\n      <td>10252</td>\n      <td>3597.90</td>\n    </tr>\n  </tbody>\n</table>\n</div>"
     },
     "execution_count": 6,
     "metadata": {},
     "output_type": "execute_result"
    }
   ],
   "source": [
    "df = pd.read_csv('data/zamowienia.csv', sep=';')\n",
    "df.head()"
   ]
  },
  {
   "cell_type": "code",
   "execution_count": 7,
   "metadata": {
    "pycharm": {
     "name": "#%%\n"
    }
   },
   "outputs": [],
   "source": [
    "df['Data zamowienia'] = pd.to_datetime(df['Data zamowienia'])"
   ]
  },
  {
   "cell_type": "code",
   "execution_count": 8,
   "metadata": {
    "pycharm": {
     "name": "#%%\n"
    }
   },
   "outputs": [],
   "source": [
    "year = widgets.Dropdown(\n",
    "    description='Rok:',\n",
    "    value=np.min(df['Data zamowienia'].dt.year),\n",
    "    options=df['Data zamowienia'].dt.year.unique().tolist()\n",
    ")\n",
    "seller = widgets.Dropdown(\n",
    "    description='Sprzedawca:',\n",
    "    value=df['Sprzedawca'].unique()[0],\n",
    "    options=df['Sprzedawca'].unique().tolist()\n",
    ")\n",
    "country = widgets.Dropdown(\n",
    "    description='Kraj:',\n",
    "    value=df['Kraj'].unique()[0],\n",
    "    options=df['Kraj'].unique().tolist()\n",
    ")\n",
    "agg = widgets.Dropdown(\n",
    "    description='Agregacja:',\n",
    "    value='Suma',\n",
    "    options=['Suma', 'Średnia']\n",
    ")"
   ]
  },
  {
   "cell_type": "code",
   "execution_count": 9,
   "metadata": {
    "pycharm": {
     "name": "#%%\n"
    }
   },
   "outputs": [],
   "source": [
    "trace1 = go.Histogram(x=df['Utarg'], opacity=0.75, name='Utarg')\n",
    "trace2 = go.Histogram(x=df['Sprzedawca'], opacity=0.75, name='Sprzedawcy')\n",
    "graph = go.FigureWidget(data=[trace1, trace2], layout=go.Layout(\n",
    "    title=dict(\n",
    "        text='Zamówienia'\n",
    "    ),\n",
    "    barmode='overlay'\n",
    "))"
   ]
  },
  {
   "cell_type": "code",
   "execution_count": 10,
   "metadata": {
    "pycharm": {
     "name": "#%%\n"
    }
   },
   "outputs": [],
   "source": [
    "def response(change):\n",
    "    filter_list = [i and j and k for i, j, k in\n",
    "        zip(df['Data zamowienia'].dt.year == year.value,\n",
    "            df['Sprzedawca'] == seller.value,\n",
    "            df['Kraj'] == country.value)]\n",
    "    temp_df = df[filter_list]\n",
    "    if agg.value == 'Suma':\n",
    "        x1 = temp_df['Utarg'].sum()\n",
    "    else:\n",
    "        x1 = temp_df['Utarg'].mean()\n",
    "    x2 = temp_df['Sprzedawca']\n",
    "    with graph.batch_update():\n",
    "        graph.data[0].x = x1\n",
    "        graph.data[1].x = x2\n",
    "        graph.layout.barmode = 'overlay'\n",
    "        graph.layout.xaxis.title = 'Utarg'\n",
    "        graph.layout.yaxis.title = 'Sprzedawcy'\n",
    "\n",
    "\n",
    "year.observe(response, names='value')\n",
    "seller.observe(response, names='value')\n",
    "country.observe(response, names='value')\n",
    "agg.observe(response, names='value')"
   ]
  },
  {
   "cell_type": "code",
   "execution_count": 11,
   "metadata": {
    "pycharm": {
     "name": "#%%\n"
    }
   },
   "outputs": [
    {
     "data": {
      "text/plain": "VBox(children=(HBox(children=(Dropdown(description='Rok:', options=(2003, 2004, 2005), value=2003), Dropdown(d…",
      "application/vnd.jupyter.widget-view+json": {
       "version_major": 2,
       "version_minor": 0,
       "model_id": "5d7e7d3a137c4e6380e26dacccd10c56"
      }
     },
     "metadata": {},
     "output_type": "display_data"
    }
   ],
   "source": [
    "container = widgets.HBox([year, seller, country, agg])\n",
    "w = widgets.VBox([container,\n",
    "              graph])\n",
    "display(w)"
   ]
  }
 ],
 "metadata": {
  "kernelspec": {
   "display_name": "Python 3 (ipykernel)",
   "language": "python",
   "name": "python3"
  },
  "language_info": {
   "codemirror_mode": {
    "name": "ipython",
    "version": 3
   },
   "file_extension": ".py",
   "mimetype": "text/x-python",
   "name": "python",
   "nbconvert_exporter": "python",
   "pygments_lexer": "ipython3",
   "version": "3.9.7"
  }
 },
 "nbformat": 4,
 "nbformat_minor": 1
}