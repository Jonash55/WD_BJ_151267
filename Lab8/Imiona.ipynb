{
 "cells": [
  {
   "cell_type": "code",
   "execution_count": 2,
   "metadata": {
    "collapsed": true,
    "pycharm": {
     "name": "#%%\n"
    }
   },
   "outputs": [],
   "source": [
    "import pandas as pd\n",
    "import matplotlib.pyplot as plt\n",
    "import seaborn as sns"
   ]
  },
  {
   "cell_type": "code",
   "execution_count": 3,
   "outputs": [
    {
     "data": {
      "text/plain": "        Rok      Imie  Liczba Plec\n0      2000     JAKUB   14497    M\n1      2000   MATEUSZ   11454    M\n2      2000    KACPER    8898    M\n3      2000    MICHAŁ    8498    M\n4      2000    PATRYK    7743    M\n...     ...       ...     ...  ...\n16412  2017      TINA       5    K\n16413  2017    VANESA       5    K\n16414  2017  VERONIKA       5    K\n16415  2017     WIERA       5    K\n16416  2017   WIOLETA       5    K\n\n[16417 rows x 4 columns]",
      "text/html": "<div>\n<style scoped>\n    .dataframe tbody tr th:only-of-type {\n        vertical-align: middle;\n    }\n\n    .dataframe tbody tr th {\n        vertical-align: top;\n    }\n\n    .dataframe thead th {\n        text-align: right;\n    }\n</style>\n<table border=\"1\" class=\"dataframe\">\n  <thead>\n    <tr style=\"text-align: right;\">\n      <th></th>\n      <th>Rok</th>\n      <th>Imie</th>\n      <th>Liczba</th>\n      <th>Plec</th>\n    </tr>\n  </thead>\n  <tbody>\n    <tr>\n      <th>0</th>\n      <td>2000</td>\n      <td>JAKUB</td>\n      <td>14497</td>\n      <td>M</td>\n    </tr>\n    <tr>\n      <th>1</th>\n      <td>2000</td>\n      <td>MATEUSZ</td>\n      <td>11454</td>\n      <td>M</td>\n    </tr>\n    <tr>\n      <th>2</th>\n      <td>2000</td>\n      <td>KACPER</td>\n      <td>8898</td>\n      <td>M</td>\n    </tr>\n    <tr>\n      <th>3</th>\n      <td>2000</td>\n      <td>MICHAŁ</td>\n      <td>8498</td>\n      <td>M</td>\n    </tr>\n    <tr>\n      <th>4</th>\n      <td>2000</td>\n      <td>PATRYK</td>\n      <td>7743</td>\n      <td>M</td>\n    </tr>\n    <tr>\n      <th>...</th>\n      <td>...</td>\n      <td>...</td>\n      <td>...</td>\n      <td>...</td>\n    </tr>\n    <tr>\n      <th>16412</th>\n      <td>2017</td>\n      <td>TINA</td>\n      <td>5</td>\n      <td>K</td>\n    </tr>\n    <tr>\n      <th>16413</th>\n      <td>2017</td>\n      <td>VANESA</td>\n      <td>5</td>\n      <td>K</td>\n    </tr>\n    <tr>\n      <th>16414</th>\n      <td>2017</td>\n      <td>VERONIKA</td>\n      <td>5</td>\n      <td>K</td>\n    </tr>\n    <tr>\n      <th>16415</th>\n      <td>2017</td>\n      <td>WIERA</td>\n      <td>5</td>\n      <td>K</td>\n    </tr>\n    <tr>\n      <th>16416</th>\n      <td>2017</td>\n      <td>WIOLETA</td>\n      <td>5</td>\n      <td>K</td>\n    </tr>\n  </tbody>\n</table>\n<p>16417 rows × 4 columns</p>\n</div>"
     },
     "execution_count": 3,
     "metadata": {},
     "output_type": "execute_result"
    }
   ],
   "source": [
    "df = pd.read_excel('data/imiona.xlsx')\n",
    "df"
   ],
   "metadata": {
    "collapsed": false,
    "pycharm": {
     "name": "#%%\n"
    }
   }
  },
  {
   "cell_type": "markdown",
   "source": [
    "### Zadanie 1\n",
    "\n",
    "##### Korzystając ze zbioru danych imiona z poprzednich zajęć wykonaj wykres zliczający (Seaborn countplot z przykładu w notebooku) liczbę narodzonych dzieci w latach 2010 - 2015 z podziałem na płeć."
   ],
   "metadata": {
    "collapsed": false,
    "pycharm": {
     "name": "#%% md\n"
    }
   }
  },
  {
   "cell_type": "code",
   "execution_count": 5,
   "outputs": [
    {
     "data": {
      "text/plain": "<Figure size 432x288 with 1 Axes>",
      "image/png": "[encoded data removed]"
     },
     "metadata": {},
     "output_type": "display_data"
    }
   ],
   "source": [
    "narodzenia = df[df['Rok'] >= 2010]\n",
    "narodzenia = narodzenia[narodzenia['Rok'] <= 2015]\n",
    "narodzenia = narodzenia.groupby([\"Plec\", \"Rok\"]).agg({\"Liczba\": \"sum\"})\n",
    "narodzenia = narodzenia.reset_index()\n",
    "\n",
    "plt.xticks(rotation=45)\n",
    "ax = sns.barplot(x='Rok', y='Liczba', hue=\"Plec\", data=narodzenia)\n",
    "plt.legend(bbox_to_anchor=(1,1))\n",
    "for container in ax.containers:\n",
    "    ax.bar_label(container)"
   ],
   "metadata": {
    "collapsed": false,
    "pycharm": {
     "name": "#%%\n"
    }
   }
  },
  {
   "cell_type": "markdown",
   "source": [
    "### Zadanie 2\n",
    "\n",
    "##### Wyświetl najczęściej nadawane imię męskie oraz żeńskie w zbiorze imiona."
   ],
   "metadata": {
    "collapsed": false,
    "pycharm": {
     "name": "#%% md\n"
    }
   }
  },
  {
   "cell_type": "code",
   "execution_count": 6,
   "outputs": [
    {
     "name": "stdout",
     "output_type": "stream",
     "text": [
      "JULIA\n",
      "JAKUB\n"
     ]
    }
   ],
   "source": [
    "k = df[df['Plec'] == 'K']\n",
    "m = df[df['Plec'] == 'M']\n",
    "\n",
    "k_sum = k.groupby('Imie').agg({'Liczba': 'sum'}).sort_values(by='Liczba', ascending=False)\n",
    "m_sum = m.groupby('Imie').agg({'Liczba': 'sum'}).sort_values(by='Liczba', ascending=False)\n",
    "\n",
    "print(k_sum.index[0])\n",
    "print(m_sum.index[0])"
   ],
   "metadata": {
    "collapsed": false,
    "pycharm": {
     "name": "#%%\n"
    }
   }
  },
  {
   "cell_type": "markdown",
   "source": [
    "### Zadanie 3\n",
    "\n",
    "##### Wyświetl w konsoli liczbę unikalnych imion rozpoczynających się od litery K."
   ],
   "metadata": {
    "collapsed": false,
    "pycharm": {
     "name": "#%% md\n"
    }
   }
  },
  {
   "cell_type": "code",
   "execution_count": 7,
   "outputs": [
    {
     "data": {
      "text/plain": "98"
     },
     "execution_count": 7,
     "metadata": {},
     "output_type": "execute_result"
    }
   ],
   "source": [
    "df[df['Imie'].str[0] == 'K']['Imie'].nunique()"
   ],
   "metadata": {
    "collapsed": false,
    "pycharm": {
     "name": "#%%\n"
    }
   }
  }
 ],
 "metadata": {
  "kernelspec": {
   "display_name": "Python 3",
   "language": "python",
   "name": "python3"
  },
  "language_info": {
   "codemirror_mode": {
    "name": "ipython",
    "version": 2
   },
   "file_extension": ".py",
   "mimetype": "text/x-python",
   "name": "python",
   "nbconvert_exporter": "python",
   "pygments_lexer": "ipython2",
   "version": "2.7.6"
  }
 },
 "nbformat": 4,
 "nbformat_minor": 0
}