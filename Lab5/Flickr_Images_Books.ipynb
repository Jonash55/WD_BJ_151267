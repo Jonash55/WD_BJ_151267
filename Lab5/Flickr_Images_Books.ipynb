{
 "cells": [
  {
   "cell_type": "code",
   "execution_count": 120,
   "metadata": {
    "collapsed": true
   },
   "outputs": [],
   "source": [
    "import numpy as np\n",
    "import pandas as pd\n",
    "import statistics\n",
    "import matplotlib.pyplot as plt\n",
    "%matplotlib inline\n",
    "import seaborn as sns"
   ]
  },
  {
   "cell_type": "markdown",
   "source": [
    "# 1. Czyszczenie danych (ang. data cleaning)\n",
    "Proces czyszczenia danych jest również częścią procesu EDA, ale skupiającym się tylko na analizie danych pod kątem ich poprawności strukturalnej. Jest to pierwszy etap, w którym naprawiane są ewentualne błędy np. w kodowaniu, nazwach, formacie danych. Rozpocznijmy od pliku ['data/olympics.csv'](olympics.csv)"
   ],
   "metadata": {
    "collapsed": false,
    "pycharm": {
     "name": "#%% md\n"
    }
   }
  },
  {
   "cell_type": "code",
   "execution_count": 121,
   "outputs": [
    {
     "data": {
      "text/plain": "   Identifier             Edition Statement      Place of Publication  \\\n0         206                           NaN                    London   \n1         216                           NaN  London; Virtue & Yorston   \n2         218                           NaN                    London   \n3         472                           NaN                    London   \n4         480  A new edition, revised, etc.                    London   \n\n  Date of Publication              Publisher  \\\n0         1879 [1878]       S. Tinsley & Co.   \n1                1868           Virtue & Co.   \n2                1869  Bradbury, Evans & Co.   \n3                1851          James Darling   \n4                1857   Wertheim & Macintosh   \n\n                                               Title     Author  \\\n0                  Walter Forbes. [A novel.] By A. A      A. A.   \n1  All for Greed. [A novel. The dedication signed...  A., A. A.   \n2  Love the Avenger. By the author of “All for Gr...  A., A. A.   \n3  Welsh Sketches, chiefly ecclesiastical, to the...  A., E. S.   \n4  [The World in which I live, and my place in it...  A., E. S.   \n\n                                   Contributors  Corporate Author  \\\n0                               FORBES, Walter.               NaN   \n1  BLAZE DE BURY, Marie Pauline Rose - Baroness               NaN   \n2  BLAZE DE BURY, Marie Pauline Rose - Baroness               NaN   \n3                   Appleyard, Ernest Silvanus.               NaN   \n4                           BROOME, John Henry.               NaN   \n\n   Corporate Contributors Former owner  Engraver Issuance type  \\\n0                     NaN          NaN       NaN   monographic   \n1                     NaN          NaN       NaN   monographic   \n2                     NaN          NaN       NaN   monographic   \n3                     NaN          NaN       NaN   monographic   \n4                     NaN          NaN       NaN   monographic   \n\n                                          Flickr URL  \\\n0  http://www.flickr.com/photos/britishlibrary/ta...   \n1  http://www.flickr.com/photos/britishlibrary/ta...   \n2  http://www.flickr.com/photos/britishlibrary/ta...   \n3  http://www.flickr.com/photos/britishlibrary/ta...   \n4  http://www.flickr.com/photos/britishlibrary/ta...   \n\n                            Shelfmarks  \n0    British Library HMNTS 12641.b.30.  \n1    British Library HMNTS 12626.cc.2.  \n2    British Library HMNTS 12625.dd.1.  \n3  British Library HMNTS 10369.bbb.15.  \n4     British Library HMNTS 9007.d.28.  ",
      "text/html": "<div>\n<style scoped>\n    .dataframe tbody tr th:only-of-type {\n        vertical-align: middle;\n    }\n\n    .dataframe tbody tr th {\n        vertical-align: top;\n    }\n\n    .dataframe thead th {\n        text-align: right;\n    }\n</style>\n<table border=\"1\" class=\"dataframe\">\n  <thead>\n    <tr style=\"text-align: right;\">\n      <th></th>\n      <th>Identifier</th>\n      <th>Edition Statement</th>\n      <th>Place of Publication</th>\n      <th>Date of Publication</th>\n      <th>Publisher</th>\n      <th>Title</th>\n      <th>Author</th>\n      <th>Contributors</th>\n      <th>Corporate Author</th>\n      <th>Corporate Contributors</th>\n      <th>Former owner</th>\n      <th>Engraver</th>\n      <th>Issuance type</th>\n      <th>Flickr URL</th>\n      <th>Shelfmarks</th>\n    </tr>\n  </thead>\n  <tbody>\n    <tr>\n      <th>0</th>\n      <td>206</td>\n      <td>NaN</td>\n      <td>London</td>\n      <td>1879 [1878]</td>\n      <td>S. Tinsley &amp; Co.</td>\n      <td>Walter Forbes. [A novel.] By A. A</td>\n      <td>A. A.</td>\n      <td>FORBES, Walter.</td>\n      <td>NaN</td>\n      <td>NaN</td>\n      <td>NaN</td>\n      <td>NaN</td>\n      <td>monographic</td>\n      <td>http://www.flickr.com/photos/britishlibrary/ta...</td>\n      <td>British Library HMNTS 12641.b.30.</td>\n    </tr>\n    <tr>\n      <th>1</th>\n      <td>216</td>\n      <td>NaN</td>\n      <td>London; Virtue &amp; Yorston</td>\n      <td>1868</td>\n      <td>Virtue &amp; Co.</td>\n      <td>All for Greed. [A novel. The dedication signed...</td>\n      <td>A., A. A.</td>\n      <td>BLAZE DE BURY, Marie Pauline Rose - Baroness</td>\n      <td>NaN</td>\n      <td>NaN</td>\n      <td>NaN</td>\n      <td>NaN</td>\n      <td>monographic</td>\n      <td>http://www.flickr.com/photos/britishlibrary/ta...</td>\n      <td>British Library HMNTS 12626.cc.2.</td>\n    </tr>\n    <tr>\n      <th>2</th>\n      <td>218</td>\n      <td>NaN</td>\n      <td>London</td>\n      <td>1869</td>\n      <td>Bradbury, Evans &amp; Co.</td>\n      <td>Love the Avenger. By the author of “All for Gr...</td>\n      <td>A., A. A.</td>\n      <td>BLAZE DE BURY, Marie Pauline Rose - Baroness</td>\n      <td>NaN</td>\n      <td>NaN</td>\n      <td>NaN</td>\n      <td>NaN</td>\n      <td>monographic</td>\n      <td>http://www.flickr.com/photos/britishlibrary/ta...</td>\n      <td>British Library HMNTS 12625.dd.1.</td>\n    </tr>\n    <tr>\n      <th>3</th>\n      <td>472</td>\n      <td>NaN</td>\n      <td>London</td>\n      <td>1851</td>\n      <td>James Darling</td>\n      <td>Welsh Sketches, chiefly ecclesiastical, to the...</td>\n      <td>A., E. S.</td>\n      <td>Appleyard, Ernest Silvanus.</td>\n      <td>NaN</td>\n      <td>NaN</td>\n      <td>NaN</td>\n      <td>NaN</td>\n      <td>monographic</td>\n      <td>http://www.flickr.com/photos/britishlibrary/ta...</td>\n      <td>British Library HMNTS 10369.bbb.15.</td>\n    </tr>\n    <tr>\n      <th>4</th>\n      <td>480</td>\n      <td>A new edition, revised, etc.</td>\n      <td>London</td>\n      <td>1857</td>\n      <td>Wertheim &amp; Macintosh</td>\n      <td>[The World in which I live, and my place in it...</td>\n      <td>A., E. S.</td>\n      <td>BROOME, John Henry.</td>\n      <td>NaN</td>\n      <td>NaN</td>\n      <td>NaN</td>\n      <td>NaN</td>\n      <td>monographic</td>\n      <td>http://www.flickr.com/photos/britishlibrary/ta...</td>\n      <td>British Library HMNTS 9007.d.28.</td>\n    </tr>\n  </tbody>\n</table>\n</div>"
     },
     "execution_count": 121,
     "metadata": {},
     "output_type": "execute_result"
    }
   ],
   "source": [
    "df = pd.read_csv('BL-Flickr-Images-Book.csv')\n",
    "df.head()"
   ],
   "metadata": {
    "collapsed": false,
    "pycharm": {
     "name": "#%%\n"
    }
   }
  },
  {
   "cell_type": "code",
   "execution_count": 122,
   "outputs": [
    {
     "data": {
      "text/plain": "Index(['Identifier', 'Edition Statement', 'Place of Publication',\n       'Date of Publication', 'Publisher', 'Title', 'Author', 'Contributors',\n       'Corporate Author', 'Corporate Contributors', 'Former owner',\n       'Engraver', 'Issuance type', 'Flickr URL', 'Shelfmarks'],\n      dtype='object')"
     },
     "execution_count": 122,
     "metadata": {},
     "output_type": "execute_result"
    }
   ],
   "source": [
    "# kolumny DataFrame\n",
    "df.columns"
   ],
   "metadata": {
    "collapsed": false,
    "pycharm": {
     "name": "#%%\n"
    }
   }
  },
  {
   "cell_type": "code",
   "execution_count": 123,
   "outputs": [
    {
     "data": {
      "text/plain": "Identifier                   0\nEdition Statement         7514\nPlace of Publication         0\nDate of Publication        181\nPublisher                 4195\nTitle                        0\nAuthor                    1778\nContributors                 0\nCorporate Author          8287\nCorporate Contributors    8287\nFormer owner              8286\nEngraver                  8287\nIssuance type                0\nFlickr URL                   0\nShelfmarks                   0\ndtype: int64"
     },
     "execution_count": 123,
     "metadata": {},
     "output_type": "execute_result"
    }
   ],
   "source": [
    "# sprawdzenie nan'ów\n",
    "df.isna().sum()"
   ],
   "metadata": {
    "collapsed": false,
    "pycharm": {
     "name": "#%%\n"
    }
   }
  },
  {
   "cell_type": "code",
   "execution_count": 124,
   "outputs": [
    {
     "data": {
      "text/plain": "      Identifier      Place of Publication Date of Publication  \\\n0            206                    London         1879 [1878]   \n1            216  London; Virtue & Yorston                1868   \n2            218                    London                1869   \n3            472                    London                1851   \n4            480                    London                1857   \n...          ...                       ...                 ...   \n8282     4158088                    London                1838   \n8283     4158128                     Derby            1831, 32   \n8284     4159563                    London           [1806]-22   \n8285     4159587       Newcastle upon Tyne                1834   \n8286     4160339                    London             1834-43   \n\n                                                  Title  \\\n0                     Walter Forbes. [A novel.] By A. A   \n1     All for Greed. [A novel. The dedication signed...   \n2     Love the Avenger. By the author of “All for Gr...   \n3     Welsh Sketches, chiefly ecclesiastical, to the...   \n4     [The World in which I live, and my place in it...   \n...                                                 ...   \n8282  The Parochial History of Cornwall, founded on,...   \n8283  The History and Gazetteer of the County of Der...   \n8284  Magna Britannia; being a concise topographical...   \n8285  An historical, topographical and descriptive v...   \n8286  Collectanea Topographica et Genealogica. [Firs...   \n\n                                                 Author  \\\n0                                                 A. A.   \n1                                             A., A. A.   \n2                                             A., A. A.   \n3                                             A., E. S.   \n4                                             A., E. S.   \n...                                                 ...   \n8282                 GIDDY, afterwards GILBERT, Davies.   \n8283                         GLOVER, Stephen - of Derby   \n8284  LYSONS, Daniel - M.A., F.R.S., and LYSONS (Sam...   \n8285                              Mackenzie, E. (Eneas)   \n8286                                                NaN   \n\n                                           Contributors Issuance type  \\\n0                                       FORBES, Walter.   monographic   \n1          BLAZE DE BURY, Marie Pauline Rose - Baroness   monographic   \n2          BLAZE DE BURY, Marie Pauline Rose - Baroness   monographic   \n3                           Appleyard, Ernest Silvanus.   monographic   \n4                                   BROOME, John Henry.   monographic   \n...                                                 ...           ...   \n8282  BOASE, Henry Samuel.|HALS, William.|LYSONS, Da...   monographic   \n8283                                     NOBLE, Thomas.   monographic   \n8284           GREGSON, Matthew.|LYSONS, Samuel - F.R.S   monographic   \n8285                               ROSS, M. - of Durham   monographic   \n8286            BANDINEL, Bulkeley.|Nichols, John Gough    continuing   \n\n                                             Flickr URL  \\\n0     http://www.flickr.com/photos/britishlibrary/ta...   \n1     http://www.flickr.com/photos/britishlibrary/ta...   \n2     http://www.flickr.com/photos/britishlibrary/ta...   \n3     http://www.flickr.com/photos/britishlibrary/ta...   \n4     http://www.flickr.com/photos/britishlibrary/ta...   \n...                                                 ...   \n8282  http://www.flickr.com/photos/britishlibrary/ta...   \n8283  http://www.flickr.com/photos/britishlibrary/ta...   \n8284  http://www.flickr.com/photos/britishlibrary/ta...   \n8285  http://www.flickr.com/photos/britishlibrary/ta...   \n8286  http://www.flickr.com/photos/britishlibrary/ta...   \n\n                                             Shelfmarks  \n0                     British Library HMNTS 12641.b.30.  \n1                     British Library HMNTS 12626.cc.2.  \n2                     British Library HMNTS 12625.dd.1.  \n3                   British Library HMNTS 10369.bbb.15.  \n4                      British Library HMNTS 9007.d.28.  \n...                                                 ...  \n8282  British Library HMNTS|British Library HMNTS 10...  \n8283  British Library HMNTS|British Library HMNTS 10...  \n8284  British Library HMNTS|British Library HMNTS 19...  \n8285  British Library HMNTS|British Library HMNTS 10...  \n8286  British Library HMNTS|British Library HMNTS 79...  \n\n[8287 rows x 9 columns]",
      "text/html": "<div>\n<style scoped>\n    .dataframe tbody tr th:only-of-type {\n        vertical-align: middle;\n    }\n\n    .dataframe tbody tr th {\n        vertical-align: top;\n    }\n\n    .dataframe thead th {\n        text-align: right;\n    }\n</style>\n<table border=\"1\" class=\"dataframe\">\n  <thead>\n    <tr style=\"text-align: right;\">\n      <th></th>\n      <th>Identifier</th>\n      <th>Place of Publication</th>\n      <th>Date of Publication</th>\n      <th>Title</th>\n      <th>Author</th>\n      <th>Contributors</th>\n      <th>Issuance type</th>\n      <th>Flickr URL</th>\n      <th>Shelfmarks</th>\n    </tr>\n  </thead>\n  <tbody>\n    <tr>\n      <th>0</th>\n      <td>206</td>\n      <td>London</td>\n      <td>1879 [1878]</td>\n      <td>Walter Forbes. [A novel.] By A. A</td>\n      <td>A. A.</td>\n      <td>FORBES, Walter.</td>\n      <td>monographic</td>\n      <td>http://www.flickr.com/photos/britishlibrary/ta...</td>\n      <td>British Library HMNTS 12641.b.30.</td>\n    </tr>\n    <tr>\n      <th>1</th>\n      <td>216</td>\n      <td>London; Virtue &amp; Yorston</td>\n      <td>1868</td>\n      <td>All for Greed. [A novel. The dedication signed...</td>\n      <td>A., A. A.</td>\n      <td>BLAZE DE BURY, Marie Pauline Rose - Baroness</td>\n      <td>monographic</td>\n      <td>http://www.flickr.com/photos/britishlibrary/ta...</td>\n      <td>British Library HMNTS 12626.cc.2.</td>\n    </tr>\n    <tr>\n      <th>2</th>\n      <td>218</td>\n      <td>London</td>\n      <td>1869</td>\n      <td>Love the Avenger. By the author of “All for Gr...</td>\n      <td>A., A. A.</td>\n      <td>BLAZE DE BURY, Marie Pauline Rose - Baroness</td>\n      <td>monographic</td>\n      <td>http://www.flickr.com/photos/britishlibrary/ta...</td>\n      <td>British Library HMNTS 12625.dd.1.</td>\n    </tr>\n    <tr>\n      <th>3</th>\n      <td>472</td>\n      <td>London</td>\n      <td>1851</td>\n      <td>Welsh Sketches, chiefly ecclesiastical, to the...</td>\n      <td>A., E. S.</td>\n      <td>Appleyard, Ernest Silvanus.</td>\n      <td>monographic</td>\n      <td>http://www.flickr.com/photos/britishlibrary/ta...</td>\n      <td>British Library HMNTS 10369.bbb.15.</td>\n    </tr>\n    <tr>\n      <th>4</th>\n      <td>480</td>\n      <td>London</td>\n      <td>1857</td>\n      <td>[The World in which I live, and my place in it...</td>\n      <td>A., E. S.</td>\n      <td>BROOME, John Henry.</td>\n      <td>monographic</td>\n      <td>http://www.flickr.com/photos/britishlibrary/ta...</td>\n      <td>British Library HMNTS 9007.d.28.</td>\n    </tr>\n    <tr>\n      <th>...</th>\n      <td>...</td>\n      <td>...</td>\n      <td>...</td>\n      <td>...</td>\n      <td>...</td>\n      <td>...</td>\n      <td>...</td>\n      <td>...</td>\n      <td>...</td>\n    </tr>\n    <tr>\n      <th>8282</th>\n      <td>4158088</td>\n      <td>London</td>\n      <td>1838</td>\n      <td>The Parochial History of Cornwall, founded on,...</td>\n      <td>GIDDY, afterwards GILBERT, Davies.</td>\n      <td>BOASE, Henry Samuel.|HALS, William.|LYSONS, Da...</td>\n      <td>monographic</td>\n      <td>http://www.flickr.com/photos/britishlibrary/ta...</td>\n      <td>British Library HMNTS|British Library HMNTS 10...</td>\n    </tr>\n    <tr>\n      <th>8283</th>\n      <td>4158128</td>\n      <td>Derby</td>\n      <td>1831, 32</td>\n      <td>The History and Gazetteer of the County of Der...</td>\n      <td>GLOVER, Stephen - of Derby</td>\n      <td>NOBLE, Thomas.</td>\n      <td>monographic</td>\n      <td>http://www.flickr.com/photos/britishlibrary/ta...</td>\n      <td>British Library HMNTS|British Library HMNTS 10...</td>\n    </tr>\n    <tr>\n      <th>8284</th>\n      <td>4159563</td>\n      <td>London</td>\n      <td>[1806]-22</td>\n      <td>Magna Britannia; being a concise topographical...</td>\n      <td>LYSONS, Daniel - M.A., F.R.S., and LYSONS (Sam...</td>\n      <td>GREGSON, Matthew.|LYSONS, Samuel - F.R.S</td>\n      <td>monographic</td>\n      <td>http://www.flickr.com/photos/britishlibrary/ta...</td>\n      <td>British Library HMNTS|British Library HMNTS 19...</td>\n    </tr>\n    <tr>\n      <th>8285</th>\n      <td>4159587</td>\n      <td>Newcastle upon Tyne</td>\n      <td>1834</td>\n      <td>An historical, topographical and descriptive v...</td>\n      <td>Mackenzie, E. (Eneas)</td>\n      <td>ROSS, M. - of Durham</td>\n      <td>monographic</td>\n      <td>http://www.flickr.com/photos/britishlibrary/ta...</td>\n      <td>British Library HMNTS|British Library HMNTS 10...</td>\n    </tr>\n    <tr>\n      <th>8286</th>\n      <td>4160339</td>\n      <td>London</td>\n      <td>1834-43</td>\n      <td>Collectanea Topographica et Genealogica. [Firs...</td>\n      <td>NaN</td>\n      <td>BANDINEL, Bulkeley.|Nichols, John Gough</td>\n      <td>continuing</td>\n      <td>http://www.flickr.com/photos/britishlibrary/ta...</td>\n      <td>British Library HMNTS|British Library HMNTS 79...</td>\n    </tr>\n  </tbody>\n</table>\n<p>8287 rows × 9 columns</p>\n</div>"
     },
     "execution_count": 124,
     "metadata": {},
     "output_type": "execute_result"
    }
   ],
   "source": [
    "# drop kolumn z dużą ilością nanów\n",
    "df_copy = df.copy()\n",
    "df_copy = df_copy.drop(columns=['Edition Statement', 'Corporate Author', 'Corporate Contributors', 'Former owner', 'Engraver', 'Publisher'])\n",
    "df_copy"
   ],
   "metadata": {
    "collapsed": false,
    "pycharm": {
     "name": "#%%\n"
    }
   }
  },
  {
   "cell_type": "code",
   "execution_count": 125,
   "outputs": [
    {
     "data": {
      "text/plain": "0"
     },
     "execution_count": 125,
     "metadata": {},
     "output_type": "execute_result"
    }
   ],
   "source": [
    "# Sprawdzenie czy kolumna Identifier zawiera duplikaty\n",
    "df_copy.duplicated(subset=['Identifier']).sum()"
   ],
   "metadata": {
    "collapsed": false,
    "pycharm": {
     "name": "#%%\n"
    }
   }
  },
  {
   "cell_type": "code",
   "execution_count": 126,
   "outputs": [
    {
     "data": {
      "text/plain": "                Place of Publication Date of Publication  \\\nIdentifier                                                 \n206                           London         1879 [1878]   \n216         London; Virtue & Yorston                1868   \n218                           London                1869   \n472                           London                1851   \n480                           London                1857   \n...                              ...                 ...   \n4158088                       London                1838   \n4158128                        Derby            1831, 32   \n4159563                       London           [1806]-22   \n4159587          Newcastle upon Tyne                1834   \n4160339                       London             1834-43   \n\n                                                        Title  \\\nIdentifier                                                      \n206                         Walter Forbes. [A novel.] By A. A   \n216         All for Greed. [A novel. The dedication signed...   \n218         Love the Avenger. By the author of “All for Gr...   \n472         Welsh Sketches, chiefly ecclesiastical, to the...   \n480         [The World in which I live, and my place in it...   \n...                                                       ...   \n4158088     The Parochial History of Cornwall, founded on,...   \n4158128     The History and Gazetteer of the County of Der...   \n4159563     Magna Britannia; being a concise topographical...   \n4159587     An historical, topographical and descriptive v...   \n4160339     Collectanea Topographica et Genealogica. [Firs...   \n\n                                                       Author  \\\nIdentifier                                                      \n206                                                     A. A.   \n216                                                 A., A. A.   \n218                                                 A., A. A.   \n472                                                 A., E. S.   \n480                                                 A., E. S.   \n...                                                       ...   \n4158088                    GIDDY, afterwards GILBERT, Davies.   \n4158128                            GLOVER, Stephen - of Derby   \n4159563     LYSONS, Daniel - M.A., F.R.S., and LYSONS (Sam...   \n4159587                                 Mackenzie, E. (Eneas)   \n4160339                                                   NaN   \n\n                                                 Contributors Issuance type  \\\nIdentifier                                                                    \n206                                           FORBES, Walter.   monographic   \n216              BLAZE DE BURY, Marie Pauline Rose - Baroness   monographic   \n218              BLAZE DE BURY, Marie Pauline Rose - Baroness   monographic   \n472                               Appleyard, Ernest Silvanus.   monographic   \n480                                       BROOME, John Henry.   monographic   \n...                                                       ...           ...   \n4158088     BOASE, Henry Samuel.|HALS, William.|LYSONS, Da...   monographic   \n4158128                                        NOBLE, Thomas.   monographic   \n4159563              GREGSON, Matthew.|LYSONS, Samuel - F.R.S   monographic   \n4159587                                  ROSS, M. - of Durham   monographic   \n4160339               BANDINEL, Bulkeley.|Nichols, John Gough    continuing   \n\n                                                   Flickr URL  \\\nIdentifier                                                      \n206         http://www.flickr.com/photos/britishlibrary/ta...   \n216         http://www.flickr.com/photos/britishlibrary/ta...   \n218         http://www.flickr.com/photos/britishlibrary/ta...   \n472         http://www.flickr.com/photos/britishlibrary/ta...   \n480         http://www.flickr.com/photos/britishlibrary/ta...   \n...                                                       ...   \n4158088     http://www.flickr.com/photos/britishlibrary/ta...   \n4158128     http://www.flickr.com/photos/britishlibrary/ta...   \n4159563     http://www.flickr.com/photos/britishlibrary/ta...   \n4159587     http://www.flickr.com/photos/britishlibrary/ta...   \n4160339     http://www.flickr.com/photos/britishlibrary/ta...   \n\n                                                   Shelfmarks  \nIdentifier                                                     \n206                         British Library HMNTS 12641.b.30.  \n216                         British Library HMNTS 12626.cc.2.  \n218                         British Library HMNTS 12625.dd.1.  \n472                       British Library HMNTS 10369.bbb.15.  \n480                          British Library HMNTS 9007.d.28.  \n...                                                       ...  \n4158088     British Library HMNTS|British Library HMNTS 10...  \n4158128     British Library HMNTS|British Library HMNTS 10...  \n4159563     British Library HMNTS|British Library HMNTS 19...  \n4159587     British Library HMNTS|British Library HMNTS 10...  \n4160339     British Library HMNTS|British Library HMNTS 79...  \n\n[8287 rows x 8 columns]",
      "text/html": "<div>\n<style scoped>\n    .dataframe tbody tr th:only-of-type {\n        vertical-align: middle;\n    }\n\n    .dataframe tbody tr th {\n        vertical-align: top;\n    }\n\n    .dataframe thead th {\n        text-align: right;\n    }\n</style>\n<table border=\"1\" class=\"dataframe\">\n  <thead>\n    <tr style=\"text-align: right;\">\n      <th></th>\n      <th>Place of Publication</th>\n      <th>Date of Publication</th>\n      <th>Title</th>\n      <th>Author</th>\n      <th>Contributors</th>\n      <th>Issuance type</th>\n      <th>Flickr URL</th>\n      <th>Shelfmarks</th>\n    </tr>\n    <tr>\n      <th>Identifier</th>\n      <th></th>\n      <th></th>\n      <th></th>\n      <th></th>\n      <th></th>\n      <th></th>\n      <th></th>\n      <th></th>\n    </tr>\n  </thead>\n  <tbody>\n    <tr>\n      <th>206</th>\n      <td>London</td>\n      <td>1879 [1878]</td>\n      <td>Walter Forbes. [A novel.] By A. A</td>\n      <td>A. A.</td>\n      <td>FORBES, Walter.</td>\n      <td>monographic</td>\n      <td>http://www.flickr.com/photos/britishlibrary/ta...</td>\n      <td>British Library HMNTS 12641.b.30.</td>\n    </tr>\n    <tr>\n      <th>216</th>\n      <td>London; Virtue &amp; Yorston</td>\n      <td>1868</td>\n      <td>All for Greed. [A novel. The dedication signed...</td>\n      <td>A., A. A.</td>\n      <td>BLAZE DE BURY, Marie Pauline Rose - Baroness</td>\n      <td>monographic</td>\n      <td>http://www.flickr.com/photos/britishlibrary/ta...</td>\n      <td>British Library HMNTS 12626.cc.2.</td>\n    </tr>\n    <tr>\n      <th>218</th>\n      <td>London</td>\n      <td>1869</td>\n      <td>Love the Avenger. By the author of “All for Gr...</td>\n      <td>A., A. A.</td>\n      <td>BLAZE DE BURY, Marie Pauline Rose - Baroness</td>\n      <td>monographic</td>\n      <td>http://www.flickr.com/photos/britishlibrary/ta...</td>\n      <td>British Library HMNTS 12625.dd.1.</td>\n    </tr>\n    <tr>\n      <th>472</th>\n      <td>London</td>\n      <td>1851</td>\n      <td>Welsh Sketches, chiefly ecclesiastical, to the...</td>\n      <td>A., E. S.</td>\n      <td>Appleyard, Ernest Silvanus.</td>\n      <td>monographic</td>\n      <td>http://www.flickr.com/photos/britishlibrary/ta...</td>\n      <td>British Library HMNTS 10369.bbb.15.</td>\n    </tr>\n    <tr>\n      <th>480</th>\n      <td>London</td>\n      <td>1857</td>\n      <td>[The World in which I live, and my place in it...</td>\n      <td>A., E. S.</td>\n      <td>BROOME, John Henry.</td>\n      <td>monographic</td>\n      <td>http://www.flickr.com/photos/britishlibrary/ta...</td>\n      <td>British Library HMNTS 9007.d.28.</td>\n    </tr>\n    <tr>\n      <th>...</th>\n      <td>...</td>\n      <td>...</td>\n      <td>...</td>\n      <td>...</td>\n      <td>...</td>\n      <td>...</td>\n      <td>...</td>\n      <td>...</td>\n    </tr>\n    <tr>\n      <th>4158088</th>\n      <td>London</td>\n      <td>1838</td>\n      <td>The Parochial History of Cornwall, founded on,...</td>\n      <td>GIDDY, afterwards GILBERT, Davies.</td>\n      <td>BOASE, Henry Samuel.|HALS, William.|LYSONS, Da...</td>\n      <td>monographic</td>\n      <td>http://www.flickr.com/photos/britishlibrary/ta...</td>\n      <td>British Library HMNTS|British Library HMNTS 10...</td>\n    </tr>\n    <tr>\n      <th>4158128</th>\n      <td>Derby</td>\n      <td>1831, 32</td>\n      <td>The History and Gazetteer of the County of Der...</td>\n      <td>GLOVER, Stephen - of Derby</td>\n      <td>NOBLE, Thomas.</td>\n      <td>monographic</td>\n      <td>http://www.flickr.com/photos/britishlibrary/ta...</td>\n      <td>British Library HMNTS|British Library HMNTS 10...</td>\n    </tr>\n    <tr>\n      <th>4159563</th>\n      <td>London</td>\n      <td>[1806]-22</td>\n      <td>Magna Britannia; being a concise topographical...</td>\n      <td>LYSONS, Daniel - M.A., F.R.S., and LYSONS (Sam...</td>\n      <td>GREGSON, Matthew.|LYSONS, Samuel - F.R.S</td>\n      <td>monographic</td>\n      <td>http://www.flickr.com/photos/britishlibrary/ta...</td>\n      <td>British Library HMNTS|British Library HMNTS 19...</td>\n    </tr>\n    <tr>\n      <th>4159587</th>\n      <td>Newcastle upon Tyne</td>\n      <td>1834</td>\n      <td>An historical, topographical and descriptive v...</td>\n      <td>Mackenzie, E. (Eneas)</td>\n      <td>ROSS, M. - of Durham</td>\n      <td>monographic</td>\n      <td>http://www.flickr.com/photos/britishlibrary/ta...</td>\n      <td>British Library HMNTS|British Library HMNTS 10...</td>\n    </tr>\n    <tr>\n      <th>4160339</th>\n      <td>London</td>\n      <td>1834-43</td>\n      <td>Collectanea Topographica et Genealogica. [Firs...</td>\n      <td>NaN</td>\n      <td>BANDINEL, Bulkeley.|Nichols, John Gough</td>\n      <td>continuing</td>\n      <td>http://www.flickr.com/photos/britishlibrary/ta...</td>\n      <td>British Library HMNTS|British Library HMNTS 79...</td>\n    </tr>\n  </tbody>\n</table>\n<p>8287 rows × 8 columns</p>\n</div>"
     },
     "execution_count": 126,
     "metadata": {},
     "output_type": "execute_result"
    }
   ],
   "source": [
    "df_copy.index = df_copy['Identifier']\n",
    "df_copy = df_copy.drop(columns=['Identifier'])\n",
    "df_copy"
   ],
   "metadata": {
    "collapsed": false,
    "pycharm": {
     "name": "#%%\n"
    }
   }
  },
  {
   "cell_type": "code",
   "execution_count": 127,
   "outputs": [
    {
     "data": {
      "text/plain": "                Place of Publication Date of Publication  \\\nIdentifier                                                 \n206                           London                1879   \n216         London; Virtue & Yorston                1868   \n218                           London                1869   \n472                           London                1851   \n480                           London                1857   \n...                              ...                 ...   \n4158088                       London                1838   \n4158128                        Derby                1831   \n4159563                       London                1806   \n4159587          Newcastle upon Tyne                1834   \n4160339                       London                1834   \n\n                                                        Title  \\\nIdentifier                                                      \n206                         Walter Forbes. [A novel.] By A. A   \n216         All for Greed. [A novel. The dedication signed...   \n218         Love the Avenger. By the author of “All for Gr...   \n472         Welsh Sketches, chiefly ecclesiastical, to the...   \n480         [The World in which I live, and my place in it...   \n...                                                       ...   \n4158088     The Parochial History of Cornwall, founded on,...   \n4158128     The History and Gazetteer of the County of Der...   \n4159563     Magna Britannia; being a concise topographical...   \n4159587     An historical, topographical and descriptive v...   \n4160339     Collectanea Topographica et Genealogica. [Firs...   \n\n                                                       Author  \\\nIdentifier                                                      \n206                                                     A. A.   \n216                                                 A., A. A.   \n218                                                 A., A. A.   \n472                                                 A., E. S.   \n480                                                 A., E. S.   \n...                                                       ...   \n4158088                    GIDDY, afterwards GILBERT, Davies.   \n4158128                            GLOVER, Stephen - of Derby   \n4159563     LYSONS, Daniel - M.A., F.R.S., and LYSONS (Sam...   \n4159587                                 Mackenzie, E. (Eneas)   \n4160339                                                   NaN   \n\n                                                 Contributors Issuance type  \\\nIdentifier                                                                    \n206                                           FORBES, Walter.   monographic   \n216              BLAZE DE BURY, Marie Pauline Rose - Baroness   monographic   \n218              BLAZE DE BURY, Marie Pauline Rose - Baroness   monographic   \n472                               Appleyard, Ernest Silvanus.   monographic   \n480                                       BROOME, John Henry.   monographic   \n...                                                       ...           ...   \n4158088     BOASE, Henry Samuel.|HALS, William.|LYSONS, Da...   monographic   \n4158128                                        NOBLE, Thomas.   monographic   \n4159563              GREGSON, Matthew.|LYSONS, Samuel - F.R.S   monographic   \n4159587                                  ROSS, M. - of Durham   monographic   \n4160339               BANDINEL, Bulkeley.|Nichols, John Gough    continuing   \n\n                                                   Flickr URL  \\\nIdentifier                                                      \n206         http://www.flickr.com/photos/britishlibrary/ta...   \n216         http://www.flickr.com/photos/britishlibrary/ta...   \n218         http://www.flickr.com/photos/britishlibrary/ta...   \n472         http://www.flickr.com/photos/britishlibrary/ta...   \n480         http://www.flickr.com/photos/britishlibrary/ta...   \n...                                                       ...   \n4158088     http://www.flickr.com/photos/britishlibrary/ta...   \n4158128     http://www.flickr.com/photos/britishlibrary/ta...   \n4159563     http://www.flickr.com/photos/britishlibrary/ta...   \n4159587     http://www.flickr.com/photos/britishlibrary/ta...   \n4160339     http://www.flickr.com/photos/britishlibrary/ta...   \n\n                                                   Shelfmarks  \nIdentifier                                                     \n206                         British Library HMNTS 12641.b.30.  \n216                         British Library HMNTS 12626.cc.2.  \n218                         British Library HMNTS 12625.dd.1.  \n472                       British Library HMNTS 10369.bbb.15.  \n480                          British Library HMNTS 9007.d.28.  \n...                                                       ...  \n4158088     British Library HMNTS|British Library HMNTS 10...  \n4158128     British Library HMNTS|British Library HMNTS 10...  \n4159563     British Library HMNTS|British Library HMNTS 19...  \n4159587     British Library HMNTS|British Library HMNTS 10...  \n4160339     British Library HMNTS|British Library HMNTS 79...  \n\n[8287 rows x 8 columns]",
      "text/html": "<div>\n<style scoped>\n    .dataframe tbody tr th:only-of-type {\n        vertical-align: middle;\n    }\n\n    .dataframe tbody tr th {\n        vertical-align: top;\n    }\n\n    .dataframe thead th {\n        text-align: right;\n    }\n</style>\n<table border=\"1\" class=\"dataframe\">\n  <thead>\n    <tr style=\"text-align: right;\">\n      <th></th>\n      <th>Place of Publication</th>\n      <th>Date of Publication</th>\n      <th>Title</th>\n      <th>Author</th>\n      <th>Contributors</th>\n      <th>Issuance type</th>\n      <th>Flickr URL</th>\n      <th>Shelfmarks</th>\n    </tr>\n    <tr>\n      <th>Identifier</th>\n      <th></th>\n      <th></th>\n      <th></th>\n      <th></th>\n      <th></th>\n      <th></th>\n      <th></th>\n      <th></th>\n    </tr>\n  </thead>\n  <tbody>\n    <tr>\n      <th>206</th>\n      <td>London</td>\n      <td>1879</td>\n      <td>Walter Forbes. [A novel.] By A. A</td>\n      <td>A. A.</td>\n      <td>FORBES, Walter.</td>\n      <td>monographic</td>\n      <td>http://www.flickr.com/photos/britishlibrary/ta...</td>\n      <td>British Library HMNTS 12641.b.30.</td>\n    </tr>\n    <tr>\n      <th>216</th>\n      <td>London; Virtue &amp; Yorston</td>\n      <td>1868</td>\n      <td>All for Greed. [A novel. The dedication signed...</td>\n      <td>A., A. A.</td>\n      <td>BLAZE DE BURY, Marie Pauline Rose - Baroness</td>\n      <td>monographic</td>\n      <td>http://www.flickr.com/photos/britishlibrary/ta...</td>\n      <td>British Library HMNTS 12626.cc.2.</td>\n    </tr>\n    <tr>\n      <th>218</th>\n      <td>London</td>\n      <td>1869</td>\n      <td>Love the Avenger. By the author of “All for Gr...</td>\n      <td>A., A. A.</td>\n      <td>BLAZE DE BURY, Marie Pauline Rose - Baroness</td>\n      <td>monographic</td>\n      <td>http://www.flickr.com/photos/britishlibrary/ta...</td>\n      <td>British Library HMNTS 12625.dd.1.</td>\n    </tr>\n    <tr>\n      <th>472</th>\n      <td>London</td>\n      <td>1851</td>\n      <td>Welsh Sketches, chiefly ecclesiastical, to the...</td>\n      <td>A., E. S.</td>\n      <td>Appleyard, Ernest Silvanus.</td>\n      <td>monographic</td>\n      <td>http://www.flickr.com/photos/britishlibrary/ta...</td>\n      <td>British Library HMNTS 10369.bbb.15.</td>\n    </tr>\n    <tr>\n      <th>480</th>\n      <td>London</td>\n      <td>1857</td>\n      <td>[The World in which I live, and my place in it...</td>\n      <td>A., E. S.</td>\n      <td>BROOME, John Henry.</td>\n      <td>monographic</td>\n      <td>http://www.flickr.com/photos/britishlibrary/ta...</td>\n      <td>British Library HMNTS 9007.d.28.</td>\n    </tr>\n    <tr>\n      <th>...</th>\n      <td>...</td>\n      <td>...</td>\n      <td>...</td>\n      <td>...</td>\n      <td>...</td>\n      <td>...</td>\n      <td>...</td>\n      <td>...</td>\n    </tr>\n    <tr>\n      <th>4158088</th>\n      <td>London</td>\n      <td>1838</td>\n      <td>The Parochial History of Cornwall, founded on,...</td>\n      <td>GIDDY, afterwards GILBERT, Davies.</td>\n      <td>BOASE, Henry Samuel.|HALS, William.|LYSONS, Da...</td>\n      <td>monographic</td>\n      <td>http://www.flickr.com/photos/britishlibrary/ta...</td>\n      <td>British Library HMNTS|British Library HMNTS 10...</td>\n    </tr>\n    <tr>\n      <th>4158128</th>\n      <td>Derby</td>\n      <td>1831</td>\n      <td>The History and Gazetteer of the County of Der...</td>\n      <td>GLOVER, Stephen - of Derby</td>\n      <td>NOBLE, Thomas.</td>\n      <td>monographic</td>\n      <td>http://www.flickr.com/photos/britishlibrary/ta...</td>\n      <td>British Library HMNTS|British Library HMNTS 10...</td>\n    </tr>\n    <tr>\n      <th>4159563</th>\n      <td>London</td>\n      <td>1806</td>\n      <td>Magna Britannia; being a concise topographical...</td>\n      <td>LYSONS, Daniel - M.A., F.R.S., and LYSONS (Sam...</td>\n      <td>GREGSON, Matthew.|LYSONS, Samuel - F.R.S</td>\n      <td>monographic</td>\n      <td>http://www.flickr.com/photos/britishlibrary/ta...</td>\n      <td>British Library HMNTS|British Library HMNTS 19...</td>\n    </tr>\n    <tr>\n      <th>4159587</th>\n      <td>Newcastle upon Tyne</td>\n      <td>1834</td>\n      <td>An historical, topographical and descriptive v...</td>\n      <td>Mackenzie, E. (Eneas)</td>\n      <td>ROSS, M. - of Durham</td>\n      <td>monographic</td>\n      <td>http://www.flickr.com/photos/britishlibrary/ta...</td>\n      <td>British Library HMNTS|British Library HMNTS 10...</td>\n    </tr>\n    <tr>\n      <th>4160339</th>\n      <td>London</td>\n      <td>1834</td>\n      <td>Collectanea Topographica et Genealogica. [Firs...</td>\n      <td>NaN</td>\n      <td>BANDINEL, Bulkeley.|Nichols, John Gough</td>\n      <td>continuing</td>\n      <td>http://www.flickr.com/photos/britishlibrary/ta...</td>\n      <td>British Library HMNTS|British Library HMNTS 79...</td>\n    </tr>\n  </tbody>\n</table>\n<p>8287 rows × 8 columns</p>\n</div>"
     },
     "execution_count": 127,
     "metadata": {},
     "output_type": "execute_result"
    }
   ],
   "source": [
    "df_copy['Date of Publication'] = df_copy[\"Date of Publication\"].str.extract(r'([0-9]{4})')\n",
    "df_copy"
   ],
   "metadata": {
    "collapsed": false,
    "pycharm": {
     "name": "#%%\n"
    }
   }
  },
  {
   "cell_type": "code",
   "execution_count": 128,
   "outputs": [
    {
     "data": {
      "text/plain": "1441"
     },
     "execution_count": 128,
     "metadata": {},
     "output_type": "execute_result"
    }
   ],
   "source": [
    "# Sprawdzenie ilości unikalnych wartości w kolumnie Place of publication\n",
    "df_copy['Place of Publication'].nunique()"
   ],
   "metadata": {
    "collapsed": false,
    "pycharm": {
     "name": "#%%\n"
    }
   }
  },
  {
   "cell_type": "code",
   "execution_count": 129,
   "outputs": [
    {
     "data": {
      "text/plain": "array(['London', 'London; Virtue & Yorston',\n       'pp. 40. G. Bryan & Co: Oxford, 1898', ...,\n       'pp. viii. 64. J. Debrett: London, 1789', 'G. Eld: London, 1608',\n       'Newcastle upon Tyne'], dtype=object)"
     },
     "execution_count": 129,
     "metadata": {},
     "output_type": "execute_result"
    }
   ],
   "source": [
    "list_of_unique = pd.Series({c: df[c].unique() for c in df})\n",
    "list_of_unique[2]"
   ],
   "metadata": {
    "collapsed": false,
    "pycharm": {
     "name": "#%%\n"
    }
   }
  },
  {
   "cell_type": "code",
   "execution_count": 130,
   "outputs": [
    {
     "data": {
      "text/plain": "Identifier\n206                     London\n216                     London\n218                     London\n472                     London\n480                     London\n                  ...         \n4158088                 London\n4158128                  Derby\n4159563                 London\n4159587    Newcastle upon Tyne\n4160339                 London\nName: Place of Publication, Length: 8287, dtype: object"
     },
     "execution_count": 130,
     "metadata": {},
     "output_type": "execute_result"
    }
   ],
   "source": [
    "list_of_cities = [\"London\", \"Oxford\"]\n",
    "for city in list_of_cities:\n",
    "    df_copy['Place of Publication'] = np.where(df_copy['Place of Publication'].str.contains(city), city, df_copy['Place of Publication'])\n",
    "df_copy['Place of Publication']"
   ],
   "metadata": {
    "collapsed": false,
    "pycharm": {
     "name": "#%%\n"
    }
   }
  },
  {
   "cell_type": "code",
   "execution_count": 131,
   "outputs": [
    {
     "data": {
      "text/plain": "0       NaN\n1       NaN\n2       NaN\n3       NaN\n4       NaN\n       ... \n8282    NaN\n8283    NaN\n8284    NaN\n8285    NaN\n8286    NaN\nName: Place of Publication, Length: 8287, dtype: object"
     },
     "execution_count": 131,
     "metadata": {},
     "output_type": "execute_result"
    }
   ],
   "source": [
    "df['Place of Publication'].where(df['Place of Publication'].str.contains(city))"
   ],
   "metadata": {
    "collapsed": false,
    "pycharm": {
     "name": "#%%\n"
    }
   }
  },
  {
   "cell_type": "code",
   "execution_count": 132,
   "outputs": [],
   "source": [
    "df_copy.to_csv(\"Cleaned_Flickr_Images_Books.csv\", header=None, index=False)"
   ],
   "metadata": {
    "collapsed": false,
    "pycharm": {
     "name": "#%%\n"
    }
   }
  }
 ],
 "metadata": {
  "kernelspec": {
   "display_name": "Python 3",
   "language": "python",
   "name": "python3"
  },
  "language_info": {
   "codemirror_mode": {
    "name": "ipython",
    "version": 2
   },
   "file_extension": ".py",
   "mimetype": "text/x-python",
   "name": "python",
   "nbconvert_exporter": "python",
   "pygments_lexer": "ipython2",
   "version": "2.7.6"
  }
 },
 "nbformat": 4,
 "nbformat_minor": 0
}